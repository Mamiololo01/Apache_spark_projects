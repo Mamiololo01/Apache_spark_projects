{
 "cells": [
  {
   "cell_type": "markdown",
   "id": "bd2cef69",
   "metadata": {},
   "source": [
    "### Spark Aggregate functions"
   ]
  },
  {
   "cell_type": "code",
   "execution_count": 21,
   "id": "0d81ac64",
   "metadata": {},
   "outputs": [],
   "source": [
    "from pyspark.sql import SparkSession\n",
    "from pyspark.sql.functions import expr, col, sum, avg, count, first, last, min, max\n",
    "spark = SparkSession.builder.appName(\"sparkApp\").getOrCreate()"
   ]
  },
  {
   "cell_type": "code",
   "execution_count": 22,
   "id": "15c36899",
   "metadata": {
    "scrolled": true
   },
   "outputs": [
    {
     "name": "stdout",
     "output_type": "stream",
     "text": [
      "+---------+------------+------+\n",
      "|     Name| Departments|salary|\n",
      "+---------+------------+------+\n",
      "|    Krish|Data Science| 10000|\n",
      "|    Krish|         IOT|  5000|\n",
      "|   Mahesh|    Big Data|  4000|\n",
      "|    Krish|    Big Data|  4000|\n",
      "|   Mahesh|Data Science|  3000|\n",
      "|Sudhanshu|Data Science| 20000|\n",
      "|Sudhanshu|         IOT| 10000|\n",
      "|Sudhanshu|    Big Data|  5000|\n",
      "|    Sunny|Data Science| 10000|\n",
      "|    Sunny|    Big Data|  2000|\n",
      "+---------+------------+------+\n",
      "\n"
     ]
    }
   ],
   "source": [
    "# Read Employees data\n",
    "employee_df = spark.read.csv('Data/employees.csv', header=True, inferSchema=True)\n",
    "employee_df.show()"
   ]
  },
  {
   "cell_type": "code",
   "execution_count": 23,
   "id": "e8b2c178",
   "metadata": {
    "scrolled": false
   },
   "outputs": [
    {
     "name": "stdout",
     "output_type": "stream",
     "text": [
      "+----------+\n",
      "|ValueCount|\n",
      "+----------+\n",
      "|        10|\n",
      "+----------+\n",
      "\n"
     ]
    }
   ],
   "source": [
    "# Count Values in a column\n",
    "employee_df.select(count('Departments').alias('ValueCount')).show()"
   ]
  },
  {
   "cell_type": "code",
   "execution_count": 24,
   "id": "c2234981",
   "metadata": {
    "scrolled": true
   },
   "outputs": [
    {
     "name": "stdout",
     "output_type": "stream",
     "text": [
      "+------------+-----------------+\n",
      "|    FirstVal|last(Departments)|\n",
      "+------------+-----------------+\n",
      "|Data Science|         Big Data|\n",
      "+------------+-----------------+\n",
      "\n"
     ]
    }
   ],
   "source": [
    "# Get first and last value in a column\n",
    "employee_df.select(first('Departments').alias('FirstVal'), last('Departments')).show()"
   ]
  },
  {
   "cell_type": "code",
   "execution_count": 25,
   "id": "3be729b3",
   "metadata": {},
   "outputs": [
    {
     "name": "stdout",
     "output_type": "stream",
     "text": [
      "+--------+------------+\n",
      "|FirstSal|last(Salary)|\n",
      "+--------+------------+\n",
      "|   10000|        2000|\n",
      "+--------+------------+\n",
      "\n"
     ]
    }
   ],
   "source": [
    "# Get first and last value in a column\n",
    "employee_df.select(first('Salary').alias('FirstSal'), last('Salary')).show()"
   ]
  },
  {
   "cell_type": "code",
   "execution_count": 26,
   "id": "ad2f5d42",
   "metadata": {
    "scrolled": true
   },
   "outputs": [
    {
     "name": "stdout",
     "output_type": "stream",
     "text": [
      "+-----------+-----------+\n",
      "|min(salary)|max(salary)|\n",
      "+-----------+-----------+\n",
      "|       2000|      20000|\n",
      "+-----------+-----------+\n",
      "\n"
     ]
    }
   ],
   "source": [
    "# Get minumum and maximun value in a column\n",
    "employee_df.select(min('salary'), max('salary')).show()"
   ]
  },
  {
   "cell_type": "code",
   "execution_count": 27,
   "id": "36294585",
   "metadata": {},
   "outputs": [
    {
     "name": "stdout",
     "output_type": "stream",
     "text": [
      "+---------+------------+-----------+\n",
      "|     Name| Departments|sum(salary)|\n",
      "+---------+------------+-----------+\n",
      "|    Sunny|    Big Data|       2000|\n",
      "|   Mahesh|Data Science|       3000|\n",
      "|Sudhanshu|Data Science|      20000|\n",
      "|    Krish|Data Science|      10000|\n",
      "|   Mahesh|    Big Data|       4000|\n",
      "|    Sunny|Data Science|      10000|\n",
      "|Sudhanshu|         IOT|      10000|\n",
      "|    Krish|         IOT|       5000|\n",
      "|Sudhanshu|    Big Data|       5000|\n",
      "|    Krish|    Big Data|       4000|\n",
      "+---------+------------+-----------+\n",
      "\n"
     ]
    }
   ],
   "source": [
    "# Performing Aggregation using GroupBy\n",
    "employee_df.groupBy(\"Name\", \"Departments\").sum().show()"
   ]
  },
  {
   "cell_type": "code",
   "execution_count": 28,
   "id": "1026521e",
   "metadata": {},
   "outputs": [
    {
     "name": "stdout",
     "output_type": "stream",
     "text": [
      "+---------+-----------+------------------+------------+\n",
      "|     Name|TotalSalary|     AverageSalary|CountOfNames|\n",
      "+---------+-----------+------------------+------------+\n",
      "|Sudhanshu|      35000|11666.666666666666|           3|\n",
      "|    Sunny|      12000|            6000.0|           2|\n",
      "|    Krish|      19000| 6333.333333333333|           3|\n",
      "|   Mahesh|       7000|            3500.0|           2|\n",
      "+---------+-----------+------------------+------------+\n",
      "\n"
     ]
    }
   ],
   "source": [
    "# Performing Aggregation using GroupBy and aggregate function\n",
    "# The aggregate function allows us apply multiple aggregations as well as aliasing\n",
    "\n",
    "emp_total_salary = employee_df.groupBy('Name')\\\n",
    ".agg(sum('salary').alias('TotalSalary'),\\\n",
    "avg('salary').alias('AverageSalary'),\\\n",
    "count('Name').alias('CountOfNames'))\n",
    "\n",
    "emp_total_salary.show()"
   ]
  },
  {
   "cell_type": "markdown",
   "id": "016cbf26",
   "metadata": {},
   "source": [
    "### Using the expression (Expr) function"
   ]
  },
  {
   "cell_type": "code",
   "execution_count": 29,
   "id": "1981cfeb",
   "metadata": {
    "scrolled": true
   },
   "outputs": [
    {
     "name": "stdout",
     "output_type": "stream",
     "text": [
      "+---------+------------+------+------+\n",
      "|     Name| Departments|salary|  rank|\n",
      "+---------+------------+------+------+\n",
      "|    Krish|Data Science| 10000|senior|\n",
      "|    Krish|         IOT|  5000|senior|\n",
      "|   Mahesh|    Big Data|  4000|junior|\n",
      "|    Krish|    Big Data|  4000|junior|\n",
      "|   Mahesh|Data Science|  3000|junior|\n",
      "|Sudhanshu|Data Science| 20000|senior|\n",
      "|Sudhanshu|         IOT| 10000|senior|\n",
      "|Sudhanshu|    Big Data|  5000|senior|\n",
      "|    Sunny|Data Science| 10000|senior|\n",
      "|    Sunny|    Big Data|  2000|junior|\n",
      "+---------+------------+------+------+\n",
      "\n"
     ]
    }
   ],
   "source": [
    "# Expressins expr() allow us to use SQL-like expressions in our transformation logic\n",
    "# Let's perform a ranking of employees\n",
    "employee_df.withColumn('rank', expr(\"case when salary >= 5000 then 'senior' else 'junior' end\")).show()"
   ]
  },
  {
   "cell_type": "code",
   "execution_count": 30,
   "id": "b55efed8",
   "metadata": {},
   "outputs": [
    {
     "name": "stdout",
     "output_type": "stream",
     "text": [
      "+---------+------------+--------+\n",
      "|     Name| Departments|TaxValue|\n",
      "+---------+------------+--------+\n",
      "|    Krish|Data Science|  500.00|\n",
      "|    Krish|         IOT|  250.00|\n",
      "|   Mahesh|    Big Data|  200.00|\n",
      "|    Krish|    Big Data|  200.00|\n",
      "|   Mahesh|Data Science|  150.00|\n",
      "|Sudhanshu|Data Science| 1000.00|\n",
      "|Sudhanshu|         IOT|  500.00|\n",
      "|Sudhanshu|    Big Data|  250.00|\n",
      "|    Sunny|Data Science|  500.00|\n",
      "|    Sunny|    Big Data|  100.00|\n",
      "+---------+------------+--------+\n",
      "\n"
     ]
    }
   ],
   "source": [
    "# Using expression with the select function\n",
    "employee_df.select('Name', 'Departments', expr('Salary * 0.05 as TaxValue')).show()"
   ]
  },
  {
   "cell_type": "code",
   "execution_count": 31,
   "id": "a537c3ad",
   "metadata": {},
   "outputs": [
    {
     "name": "stdout",
     "output_type": "stream",
     "text": [
      "+---------+------------+--------+\n",
      "|     name| Departments|TaxValue|\n",
      "+---------+------------+--------+\n",
      "|    Krish|Data Science|  500.00|\n",
      "|    Krish|         IOT|  250.00|\n",
      "|   Mahesh|    Big Data|  200.00|\n",
      "|    Krish|    Big Data|  200.00|\n",
      "|   Mahesh|Data Science|  150.00|\n",
      "|Sudhanshu|Data Science| 1000.00|\n",
      "|Sudhanshu|         IOT|  500.00|\n",
      "|Sudhanshu|    Big Data|  250.00|\n",
      "|    Sunny|Data Science|  500.00|\n",
      "|    Sunny|    Big Data|  100.00|\n",
      "+---------+------------+--------+\n",
      "\n"
     ]
    }
   ],
   "source": [
    "# We can also use the native Spark aliasing\n",
    "employee_df.select('name', 'Departments', expr('Salary * 0.05').alias('TaxValue')).show()"
   ]
  },
  {
   "cell_type": "code",
   "execution_count": 32,
   "id": "a6866aec",
   "metadata": {},
   "outputs": [
    {
     "name": "stdout",
     "output_type": "stream",
     "text": [
      "+---------+-----------+------+\n",
      "|     Name|Departments|salary|\n",
      "+---------+-----------+------+\n",
      "|    Krish|        IOT|  5000|\n",
      "|Sudhanshu|        IOT| 10000|\n",
      "+---------+-----------+------+\n",
      "\n"
     ]
    }
   ],
   "source": [
    "# Using expression in filter functions\n",
    "employee_df.filter(expr(\"Salary > 4000 and Departments = 'IOT'\")).show()"
   ]
  },
  {
   "cell_type": "code",
   "execution_count": 20,
   "id": "13c14036",
   "metadata": {},
   "outputs": [
    {
     "name": "stdout",
     "output_type": "stream",
     "text": [
      "+------------+-----------+-------------+--------------+\n",
      "| Departments|TotalSalary|highestSalary|smallestSalary|\n",
      "+------------+-----------+-------------+--------------+\n",
      "|         IOT|      15000|        10000|          5000|\n",
      "|    Big Data|      15000|         5000|          2000|\n",
      "|Data Science|      43000|        20000|          3000|\n",
      "+------------+-----------+-------------+--------------+\n",
      "\n"
     ]
    }
   ],
   "source": [
    "# Using Groupby with Expression\n",
    "employee_df.groupBy('Departments')\\\n",
    ".agg(expr(\"sum(Salary) as TotalSalary\"),\\\n",
    "expr(\"max(salary) as highestSalary\"),\\\n",
    "expr(\"min(salary) as smallestSalary\")).show()"
   ]
  },
  {
   "cell_type": "markdown",
   "id": "dcfbd0af",
   "metadata": {},
   "source": [
    "### Using the select expression (selectExpr) function"
   ]
  },
  {
   "cell_type": "code",
   "execution_count": 33,
   "id": "7e197e89",
   "metadata": {},
   "outputs": [
    {
     "name": "stdout",
     "output_type": "stream",
     "text": [
      "+---------+------------+--------+\n",
      "|     Name| Departments|TaxValue|\n",
      "+---------+------------+--------+\n",
      "|    Krish|Data Science|  500.00|\n",
      "|    Krish|         IOT|  250.00|\n",
      "|   Mahesh|    Big Data|  200.00|\n",
      "|    Krish|    Big Data|  200.00|\n",
      "|   Mahesh|Data Science|  150.00|\n",
      "|Sudhanshu|Data Science| 1000.00|\n",
      "|Sudhanshu|         IOT|  500.00|\n",
      "|Sudhanshu|    Big Data|  250.00|\n",
      "|    Sunny|Data Science|  500.00|\n",
      "|    Sunny|    Big Data|  100.00|\n",
      "+---------+------------+--------+\n",
      "\n"
     ]
    }
   ],
   "source": [
    "# The select expression allows us perform select and use expression at the same time.\n",
    "# It is a short-cut to column selection and using expression\n",
    "employee_df.selectExpr('Name', 'Departments', 'Salary * 0.05 as TaxValue').show()"
   ]
  },
  {
   "cell_type": "code",
   "execution_count": null,
   "id": "22569677",
   "metadata": {},
   "outputs": [],
   "source": []
  }
 ],
 "metadata": {
  "kernelspec": {
   "display_name": "base",
   "language": "python",
   "name": "python3"
  },
  "language_info": {
   "codemirror_mode": {
    "name": "ipython",
    "version": 3
   },
   "file_extension": ".py",
   "mimetype": "text/x-python",
   "name": "python",
   "nbconvert_exporter": "python",
   "pygments_lexer": "ipython3",
   "version": "3.11.3"
  }
 },
 "nbformat": 4,
 "nbformat_minor": 5
}
