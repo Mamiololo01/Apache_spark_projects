{
 "cells": [
  {
   "cell_type": "markdown",
   "id": "b30dab6e",
   "metadata": {},
   "source": [
    "### What is Apache Spark\n",
    "\n",
    "Apache Spark is currently one of the most popular framework for large-scale data processing. It is an Open source analytical processing engine for processing data in a distributed manner.\n",
    "While it's largely used for data processing, it is also very useful for building Machine learning application because of it special ML libraries. Spark is maintained by the Apache Foundation hence the name Apache Spark."
   ]
  },
  {
   "cell_type": "markdown",
   "id": "6710c684",
   "metadata": {},
   "source": [
    "### Why Spark?\n",
    "While pandas works really great on small to mid-size data (apprx. 5-10GB), it quickly becomes inefficient when data \n",
    "becomes very large.\n",
    "For us to process very large dataset, we may need a high computational capability. This capability cannot\n",
    "be provided by a single Machine but a cluster of computing machines called nodes. This therefore means we\n",
    "need an application that can run on mutiple machines (nodes) to process the data. This is What Spark\n",
    "is designed for.\n",
    "\n",
    "Spark splits the large data into manageble pieces and distribute across mutiple nodes in a cluster, process the data in the individual clusters and finally combines the result.\n",
    "\n",
    "Spark support a few programming languages including Python, Scala, Java etc. In this Class we will be\n",
    "using the Python language with Spark also know as PySpark"
   ]
  },
  {
   "cell_type": "markdown",
   "id": "348d5a2b",
   "metadata": {},
   "source": [
    "### Spark Structured APIs\n",
    "1. DataFrames\n",
    "2. Datasets\n",
    "3. Spark SQL"
   ]
  },
  {
   "cell_type": "markdown",
   "id": "c98d5e27",
   "metadata": {},
   "source": [
    "### Spark Features\n",
    "1. In-memory computation\n",
    "2. Distributed processing using parallelize\n",
    "3. Can be used with many cluster managers (Spark, Yarn, Mesos etc)\n",
    "4. Fault-tolerant\n",
    "6. Lazy evaluation\n",
    "7. Cache & persistence\n",
    "8. Inbuild-optimization when using DataFrames\n",
    "9. Supports ANSI SQL"
   ]
  },
  {
   "cell_type": "markdown",
   "id": "0f0d8069",
   "metadata": {},
   "source": [
    "### Running Spark Application\n",
    "We run a Spark Application through a driver programe called the SparkSession. This is the interface that submits a Spark program to a cluster.\n",
    "\n",
    "Let's import the SparkSession:"
   ]
  },
  {
   "cell_type": "code",
   "execution_count": 1,
   "id": "fe0f0215",
   "metadata": {},
   "outputs": [
    {
     "name": "stdout",
     "output_type": "stream",
     "text": [
      "Requirement already satisfied: pyspark in /Users/christopherozurumba/anaconda3/lib/python3.11/site-packages (3.5.3)\n",
      "Requirement already satisfied: py4j==0.10.9.7 in /Users/christopherozurumba/anaconda3/lib/python3.11/site-packages (from pyspark) (0.10.9.7)\n",
      "\n",
      "\u001b[1m[\u001b[0m\u001b[34;49mnotice\u001b[0m\u001b[1;39;49m]\u001b[0m\u001b[39;49m A new release of pip is available: \u001b[0m\u001b[31;49m24.3.1\u001b[0m\u001b[39;49m -> \u001b[0m\u001b[32;49m25.0\u001b[0m\n",
      "\u001b[1m[\u001b[0m\u001b[34;49mnotice\u001b[0m\u001b[1;39;49m]\u001b[0m\u001b[39;49m To update, run: \u001b[0m\u001b[32;49mpip install --upgrade pip\u001b[0m\n",
      "Note: you may need to restart the kernel to use updated packages.\n"
     ]
    }
   ],
   "source": [
    "pip install pyspark"
   ]
  },
  {
   "cell_type": "code",
   "execution_count": 2,
   "id": "760497ad",
   "metadata": {},
   "outputs": [
    {
     "name": "stderr",
     "output_type": "stream",
     "text": [
      "25/02/10 13:02:01 WARN Utils: Your hostname, apples-MacBook-Air-5.local resolves to a loopback address: 127.0.0.1; using 192.168.1.129 instead (on interface en0)\n",
      "25/02/10 13:02:01 WARN Utils: Set SPARK_LOCAL_IP if you need to bind to another address\n",
      "Setting default log level to \"WARN\".\n",
      "To adjust logging level use sc.setLogLevel(newLevel). For SparkR, use setLogLevel(newLevel).\n",
      "25/02/10 13:02:02 WARN NativeCodeLoader: Unable to load native-hadoop library for your platform... using builtin-java classes where applicable\n"
     ]
    },
    {
     "name": "stderr",
     "output_type": "stream",
     "text": [
      "25/02/10 13:02:17 WARN GarbageCollectionMetrics: To enable non-built-in garbage collector(s) List(G1 Concurrent GC), users should configure it(them) to spark.eventLog.gcMetrics.youngGenerationGarbageCollectors or spark.eventLog.gcMetrics.oldGenerationGarbageCollectors\n"
     ]
    }
   ],
   "source": [
    "from pyspark.sql import SparkSession\n",
    "from pyspark.sql.functions import expr, col, sum, avg, count, when, lit\n",
    "spark = SparkSession.builder.appName(\"sparkIntro\").getOrCreate()"
   ]
  },
  {
   "cell_type": "markdown",
   "id": "b04c51ed",
   "metadata": {},
   "source": [
    "### Spark DataFrame\n",
    "The Spark Dataframe API allows us to work with data in a structured format. Spark Dataframe behaves like the Pandas Dataframe with a few difference. Let's get some data into a DataFrame:"
   ]
  },
  {
   "cell_type": "markdown",
   "id": "16ea0071",
   "metadata": {},
   "source": [
    "#### Read from a CSV File into a Spark Dataframe"
   ]
  },
  {
   "cell_type": "code",
   "execution_count": 4,
   "id": "ab2620ee",
   "metadata": {},
   "outputs": [
    {
     "name": "stderr",
     "output_type": "stream",
     "text": [
      "                                                                                \r"
     ]
    }
   ],
   "source": [
    "# Read in the data\n",
    "stock_df = spark.read.csv('Data/stock_data.csv', header= True, inferSchema= True)"
   ]
  },
  {
   "cell_type": "code",
   "execution_count": 5,
   "id": "c6ed6f25",
   "metadata": {
    "scrolled": false
   },
   "outputs": [
    {
     "name": "stdout",
     "output_type": "stream",
     "text": [
      "+----------+--------------------+----------+--------+------+\n",
      "|    Ticker|                Name|    Volume|   Price|Change|\n",
      "+----------+--------------------+----------+--------+------+\n",
      "|  ABBEYBDS|Abbey Mortgage Ba...|   224,580|    1.52| -0.16|\n",
      "|  ABCTRANS|Associated Bus Co...|   370,378|    0.34| -0.02|\n",
      "|   ACADEMY|       Academy Press|     4,760|    1.99|   0.0|\n",
      "|ACCESSCORP| Access Holdings Plc|41,023,827|   14.25|   0.0|\n",
      "| AFRINSURE|African Alliance ...|      NULL|    0.20|  NULL|\n",
      "|  AFRIPRUD|Africa Prudential...| 1,332,872|    6.40|  0.15|\n",
      "| AFROMEDIA|       Afromedia Plc|      NULL|    0.20|  NULL|\n",
      "|     AIICO| Aiico Insurance Plc|19,952,840|    0.74|  0.04|\n",
      "|AIRTELAFRI|   Airtel Africa Plc|    40,441|1,289.00|   0.0|\n",
      "|      ALEX|Aluminium Extrusi...|      NULL|    6.50|  NULL|\n",
      "+----------+--------------------+----------+--------+------+\n",
      "only showing top 10 rows\n",
      "\n"
     ]
    }
   ],
   "source": [
    "stock_df.show(10)"
   ]
  },
  {
   "cell_type": "code",
   "execution_count": 7,
   "id": "729a2d7e",
   "metadata": {},
   "outputs": [
    {
     "name": "stdout",
     "output_type": "stream",
     "text": [
      "+----------+--------------------+----------+-----+------+\n",
      "|    Ticker|                Name|    Volume|Price|Change|\n",
      "+----------+--------------------+----------+-----+------+\n",
      "|  ABBEYBDS|Abbey Mortgage Ba...|   224,580| 1.52| -0.16|\n",
      "|  ABCTRANS|Associated Bus Co...|   370,378| 0.34| -0.02|\n",
      "|   ACADEMY|       Academy Press|     4,760| 1.99|   0.0|\n",
      "|ACCESSCORP| Access Holdings Plc|41,023,827|14.25|   0.0|\n",
      "| AFRINSURE|African Alliance ...|      NULL| 0.20|  NULL|\n",
      "+----------+--------------------+----------+-----+------+\n",
      "\n"
     ]
    }
   ],
   "source": [
    "# We can also use Limit to limit the number of records returned by a dataframe\n",
    "stock_df.limit(5).show(10)"
   ]
  },
  {
   "cell_type": "code",
   "execution_count": 8,
   "id": "855772e2",
   "metadata": {},
   "outputs": [
    {
     "data": {
      "text/plain": [
       "StructType([StructField('Ticker', StringType(), True), StructField('Name', StringType(), True), StructField('Volume', StringType(), True), StructField('Price', StringType(), True), StructField('Change', DoubleType(), True)])"
      ]
     },
     "execution_count": 8,
     "metadata": {},
     "output_type": "execute_result"
    }
   ],
   "source": [
    "# Check data schema\n",
    "stock_df.schema"
   ]
  },
  {
   "cell_type": "code",
   "execution_count": 9,
   "id": "ff756175",
   "metadata": {},
   "outputs": [
    {
     "name": "stdout",
     "output_type": "stream",
     "text": [
      "root\n",
      " |-- Ticker: string (nullable = true)\n",
      " |-- Name: string (nullable = true)\n",
      " |-- Volume: string (nullable = true)\n",
      " |-- Price: string (nullable = true)\n",
      " |-- Change: double (nullable = true)\n",
      "\n"
     ]
    }
   ],
   "source": [
    "# Using PrintSchema\n",
    "stock_df.printSchema()"
   ]
  },
  {
   "cell_type": "code",
   "execution_count": 10,
   "id": "39bd72c7",
   "metadata": {
    "scrolled": true
   },
   "outputs": [
    {
     "name": "stderr",
     "output_type": "stream",
     "text": [
      "25/02/10 13:19:56 WARN SparkStringUtils: Truncated the string representation of a plan since it was too large. This behavior can be adjusted by setting 'spark.sql.debug.maxToStringFields'.\n",
      "[Stage 5:>                                                          (0 + 1) / 1]\r"
     ]
    },
    {
     "name": "stdout",
     "output_type": "stream",
     "text": [
      "+-------+----------+--------------------+------------------+-----------------+--------------------+\n",
      "|summary|    Ticker|                Name|            Volume|            Price|              Change|\n",
      "+-------+----------+--------------------+------------------+-----------------+--------------------+\n",
      "|  count|       156|                 156|               121|              156|                 121|\n",
      "|   mean|  Infinity|                NULL|             250.8|24.71836601307189|-0.03826446280991...|\n",
      "| stddev|      NULL|                NULL|235.66756246883023|70.02011350561236|  0.3294128050687324|\n",
      "|    min|  ABBEYBDS|AXA Mansard Insur...|         1,002,000|             0.20|                -2.0|\n",
      "|    max|ZENITHBANK|     Zenith Bank Plc|           836,301|            86.00|                 1.4|\n",
      "+-------+----------+--------------------+------------------+-----------------+--------------------+\n",
      "\n"
     ]
    },
    {
     "name": "stderr",
     "output_type": "stream",
     "text": [
      "                                                                                \r"
     ]
    }
   ],
   "source": [
    "# Describe data\n",
    "stock_df.describe().show()"
   ]
  },
  {
   "cell_type": "code",
   "execution_count": 14,
   "id": "37310511",
   "metadata": {
    "scrolled": false
   },
   "outputs": [
    {
     "name": "stdout",
     "output_type": "stream",
     "text": [
      "+----------+--------------------+-----+\n",
      "|    Ticker|                name|Price|\n",
      "+----------+--------------------+-----+\n",
      "|  ABBEYBDS|Abbey Mortgage Ba...| 1.52|\n",
      "|  ABCTRANS|Associated Bus Co...| 0.34|\n",
      "|   ACADEMY|       Academy Press| 1.99|\n",
      "|ACCESSCORP| Access Holdings Plc|14.25|\n",
      "| AFRINSURE|African Alliance ...| 0.20|\n",
      "+----------+--------------------+-----+\n",
      "only showing top 5 rows\n",
      "\n"
     ]
    }
   ],
   "source": [
    "# Select columns from the data using the select function\n",
    "stock_with_few_cols = stock_df.select(['Ticker', 'name', 'Price'])\n",
    "stock_with_few_cols.show(5)"
   ]
  },
  {
   "cell_type": "code",
   "execution_count": 15,
   "id": "8da68572",
   "metadata": {},
   "outputs": [
    {
     "name": "stdout",
     "output_type": "stream",
     "text": [
      "+----------+--------------------+----------+-----+------+------------+\n",
      "|    Ticker|                Name|    Volume|Price|Change|TaxDeduction|\n",
      "+----------+--------------------+----------+-----+------+------------+\n",
      "|  ABBEYBDS|Abbey Mortgage Ba...|   224,580| 1.52| -0.16|       1.444|\n",
      "|  ABCTRANS|Associated Bus Co...|   370,378| 0.34| -0.02|       0.323|\n",
      "|   ACADEMY|       Academy Press|     4,760| 1.99|   0.0|      1.8905|\n",
      "|ACCESSCORP| Access Holdings Plc|41,023,827|14.25|   0.0|     13.5375|\n",
      "| AFRINSURE|African Alliance ...|      NULL| 0.20|  NULL|        0.19|\n",
      "+----------+--------------------+----------+-----+------+------------+\n",
      "only showing top 5 rows\n",
      "\n"
     ]
    }
   ],
   "source": [
    "# Adding new columns to Dataframe\n",
    "transformed_df = stock_df.withColumn('TaxDeduction', stock_df['Price'] - (stock_df['Price']*0.05))\n",
    "transformed_df.show(5)"
   ]
  },
  {
   "cell_type": "code",
   "execution_count": 17,
   "id": "1216ee91",
   "metadata": {
    "scrolled": true
   },
   "outputs": [
    {
     "name": "stdout",
     "output_type": "stream",
     "text": [
      "+----------+--------------------+----------+-----+------+------------+----------+\n",
      "|    Ticker|                Name|    Volume|Price|Change|TaxDeduction|Identifier|\n",
      "+----------+--------------------+----------+-----+------+------------+----------+\n",
      "|  ABBEYBDS|Abbey Mortgage Ba...|   224,580| 1.52| -0.16|       1.444|     stock|\n",
      "|  ABCTRANS|Associated Bus Co...|   370,378| 0.34| -0.02|       0.323|     stock|\n",
      "|   ACADEMY|       Academy Press|     4,760| 1.99|   0.0|      1.8905|     stock|\n",
      "|ACCESSCORP| Access Holdings Plc|41,023,827|14.25|   0.0|     13.5375|     stock|\n",
      "| AFRINSURE|African Alliance ...|      NULL| 0.20|  NULL|        0.19|     stock|\n",
      "+----------+--------------------+----------+-----+------+------------+----------+\n",
      "only showing top 5 rows\n",
      "\n"
     ]
    }
   ],
   "source": [
    "# Create column from a literal value\n",
    "transformed_df.withColumn('Identifier', lit('stock')).show(5)"
   ]
  },
  {
   "cell_type": "code",
   "execution_count": 18,
   "id": "7c378c65",
   "metadata": {},
   "outputs": [
    {
     "name": "stdout",
     "output_type": "stream",
     "text": [
      "+----------+--------------------+--------------------+\n",
      "|    Ticker|                Name|        StockRanking|\n",
      "+----------+--------------------+--------------------+\n",
      "|  ABBEYBDS|Abbey Mortgage Ba...|          Poor stock|\n",
      "|  ABCTRANS|Associated Bus Co...|          Poor stock|\n",
      "|   ACADEMY|       Academy Press|          Poor stock|\n",
      "|ACCESSCORP| Access Holdings Plc|          Poor stock|\n",
      "| AFRINSURE|African Alliance ...|          Poor stock|\n",
      "|  AFRIPRUD|Africa Prudential...|          Poor stock|\n",
      "| AFROMEDIA|       Afromedia Plc|          Poor stock|\n",
      "|     AIICO| Aiico Insurance Plc|          Poor stock|\n",
      "|AIRTELAFRI|   Airtel Africa Plc|High performance ...|\n",
      "|      ALEX|Aluminium Extrusi...|          Poor stock|\n",
      "|    ARBICO|          Arbico Plc|          Poor stock|\n",
      "|    ARDOVA|          Ardova Plc|          Poor stock|\n",
      "|ASOSAVINGS| Aso Savings & Loans|          Poor stock|\n",
      "| AUSTINLAZ|Austin Laz & Company|          Poor stock|\n",
      "|     BAPLC|Briclinks Africa Plc|          Poor stock|\n",
      "|    BERGER|       Berger Paints|          Poor stock|\n",
      "|  BETAGLAS|  Beta Glass Company|          Poor stock|\n",
      "| BUACEMENT|      BUA Cement Plc|          Poor stock|\n",
      "|  BUAFOODS|           BUA Foods|          Poor stock|\n",
      "|   CADBURY|     Cadbury Nigeria|          Poor stock|\n",
      "+----------+--------------------+--------------------+\n",
      "only showing top 20 rows\n",
      "\n"
     ]
    }
   ],
   "source": [
    "# Creating conditional column using the when expression\n",
    "ranked_stock = stock_df \\\n",
    "    .select(\"Ticker\", \"Name\",\\\n",
    "    when(col(\"Price\") <= 500, \"Poor stock\") \\\n",
    "    .otherwise('High performance stock') \\\n",
    "    .alias(\"StockRanking\")).show()"
   ]
  },
  {
   "cell_type": "code",
   "execution_count": 21,
   "id": "ee40f4ab",
   "metadata": {},
   "outputs": [
    {
     "name": "stdout",
     "output_type": "stream",
     "text": [
      "+--------+--------------------+-------+-----+------------+\n",
      "|  Ticker|                Name| Volume|Price|TaxDeduction|\n",
      "+--------+--------------------+-------+-----+------------+\n",
      "|ABBEYBDS|Abbey Mortgage Ba...|224,580| 1.52|       1.444|\n",
      "|ABCTRANS|Associated Bus Co...|370,378| 0.34|       0.323|\n",
      "| ACADEMY|       Academy Press|  4,760| 1.99|      1.8905|\n",
      "+--------+--------------------+-------+-----+------------+\n",
      "only showing top 3 rows\n",
      "\n"
     ]
    }
   ],
   "source": [
    "# Dropping columns of a dataframe\n",
    "transformed_df = transformed_df.drop('Change')\n",
    "transformed_df.show(3)"
   ]
  },
  {
   "cell_type": "code",
   "execution_count": 22,
   "id": "d5a800a4",
   "metadata": {},
   "outputs": [
    {
     "name": "stdout",
     "output_type": "stream",
     "text": [
      "+--------+--------------------+-----------+-----+------------+\n",
      "|  Ticker|                Name|StockVolume|Price|TaxDeduction|\n",
      "+--------+--------------------+-----------+-----+------------+\n",
      "|ABBEYBDS|Abbey Mortgage Ba...|    224,580| 1.52|       1.444|\n",
      "|ABCTRANS|Associated Bus Co...|    370,378| 0.34|       0.323|\n",
      "| ACADEMY|       Academy Press|      4,760| 1.99|      1.8905|\n",
      "+--------+--------------------+-----------+-----+------------+\n",
      "only showing top 3 rows\n",
      "\n"
     ]
    }
   ],
   "source": [
    "# Rename a column \n",
    "transformed_df = transformed_df.withColumnRenamed('Volume', 'StockVolume')\n",
    "transformed_df.show(3)"
   ]
  },
  {
   "cell_type": "code",
   "execution_count": 23,
   "id": "12383e85",
   "metadata": {},
   "outputs": [
    {
     "name": "stdout",
     "output_type": "stream",
     "text": [
      "+--------+--------------------+---------+------+------+\n",
      "|  Ticker|                Name|   Volume| Price|Change|\n",
      "+--------+--------------------+---------+------+------+\n",
      "|BUAFOODS|           BUA Foods|  240,781|135.75|   0.0|\n",
      "| DANGCEM|      Dangote Cement|  256,585|284.00|   0.0|\n",
      "|  GEREGU|    Geregu Power Plc|   15,499|312.00|   0.0|\n",
      "|    MTNN|         MTN Nigeria|2,097,876|274.00|   0.0|\n",
      "|    NESF|Nigeria Energy Se...|     NULL|552.20|  NULL|\n",
      "|OKOMUOIL|      Okomu Oil Palm|  338,508|236.40|   0.0|\n",
      "|  PRESCO|          Presco Plc|  245,354|180.00|   0.0|\n",
      "|   TOTAL|       Total Nigeria|  446,267|336.70|   0.0|\n",
      "+--------+--------------------+---------+------+------+\n",
      "\n"
     ]
    }
   ],
   "source": [
    "## Filter dataframe using conditionals\n",
    "filtered_df = stock_df.filter('Price >= 100')\n",
    "filtered_df.show(10)"
   ]
  },
  {
   "cell_type": "code",
   "execution_count": 24,
   "id": "ff2d8b15",
   "metadata": {
    "scrolled": true
   },
   "outputs": [
    {
     "name": "stdout",
     "output_type": "stream",
     "text": [
      "+----------+--------------------+----------+-----+------+\n",
      "|    Ticker|                Name|    Volume|Price|Change|\n",
      "+----------+--------------------+----------+-----+------+\n",
      "|  ABBEYBDS|Abbey Mortgage Ba...|   224,580| 1.52| -0.16|\n",
      "|  ABCTRANS|Associated Bus Co...|   370,378| 0.34| -0.02|\n",
      "|   ACADEMY|       Academy Press|     4,760| 1.99|   0.0|\n",
      "|ACCESSCORP| Access Holdings Plc|41,023,827|14.25|   0.0|\n",
      "| AFRINSURE|African Alliance ...|      NULL| 0.20|  NULL|\n",
      "|  AFRIPRUD|Africa Prudential...| 1,332,872| 6.40|  0.15|\n",
      "| AFROMEDIA|       Afromedia Plc|      NULL| 0.20|  NULL|\n",
      "|     AIICO| Aiico Insurance Plc|19,952,840| 0.74|  0.04|\n",
      "|      ALEX|Aluminium Extrusi...|      NULL| 6.50|  NULL|\n",
      "|    ARBICO|          Arbico Plc|      NULL| 1.03|  NULL|\n",
      "+----------+--------------------+----------+-----+------+\n",
      "only showing top 10 rows\n",
      "\n"
     ]
    }
   ],
   "source": [
    "## Filtering with the NOT conditional\n",
    "stock_df.filter(~(stock_df['Price'] >= 100)).show(10)"
   ]
  },
  {
   "cell_type": "code",
   "execution_count": 25,
   "id": "8b875fa5",
   "metadata": {},
   "outputs": [
    {
     "name": "stdout",
     "output_type": "stream",
     "text": [
      "+---------+-------------+------+-----+------+\n",
      "|   Ticker|         Name|Volume|Price|Change|\n",
      "+---------+-------------+------+-----+------+\n",
      "|AFROMEDIA|Afromedia Plc|  NULL| 0.20|  NULL|\n",
      "+---------+-------------+------+-----+------+\n",
      "\n"
     ]
    }
   ],
   "source": [
    "# Filtering using where and a single condition\n",
    "stock_df.where(col(\"Ticker\") == \"AFROMEDIA\").show(2)"
   ]
  },
  {
   "cell_type": "code",
   "execution_count": 27,
   "id": "004580a9",
   "metadata": {},
   "outputs": [
    {
     "name": "stdout",
     "output_type": "stream",
     "text": [
      "+--------+----------------+---------+------+------+\n",
      "|  Ticker|            Name|   Volume| Price|Change|\n",
      "+--------+----------------+---------+------+------+\n",
      "|BUAFOODS|       BUA Foods|  240,781|135.75|   0.0|\n",
      "| DANGCEM|  Dangote Cement|  256,585|284.00|   0.0|\n",
      "|  GEREGU|Geregu Power Plc|   15,499|312.00|   0.0|\n",
      "|    MTNN|     MTN Nigeria|2,097,876|274.00|   0.0|\n",
      "|OKOMUOIL|  Okomu Oil Palm|  338,508|236.40|   0.0|\n",
      "|  PRESCO|      Presco Plc|  245,354|180.00|   0.0|\n",
      "|   TOTAL|   Total Nigeria|  446,267|336.70|   0.0|\n",
      "+--------+----------------+---------+------+------+\n",
      "\n"
     ]
    }
   ],
   "source": [
    "# Filtering using where and multiple condition\n",
    "stock_df.where((col(\"Price\") >= 100) & (col(\"Price\") <= 500)).show()"
   ]
  },
  {
   "cell_type": "code",
   "execution_count": 23,
   "id": "23f9b392",
   "metadata": {},
   "outputs": [
    {
     "name": "stdout",
     "output_type": "stream",
     "text": [
      "+----------+--------------------+----------+------+------+\n",
      "|    Ticker|                Name|    Volume| Price|Change|\n",
      "+----------+--------------------+----------+------+------+\n",
      "|  ABBEYBDS|Abbey Mortgage Ba...|   224,580|  1.52| -0.16|\n",
      "|  ABCTRANS|Associated Bus Co...|   370,378|  0.34| -0.02|\n",
      "|   ACADEMY|       Academy Press|     4,760|  1.99|   0.0|\n",
      "|ACCESSCORP| Access Holdings Plc|41,023,827| 14.25|   0.0|\n",
      "| AFRINSURE|African Alliance ...|      NULL|  0.20|  NULL|\n",
      "|  AFRIPRUD|Africa Prudential...| 1,332,872|  6.40|  0.15|\n",
      "| AFROMEDIA|       Afromedia Plc|      NULL|  0.20|  NULL|\n",
      "|     AIICO| Aiico Insurance Plc|19,952,840|  0.74|  0.04|\n",
      "|      ALEX|Aluminium Extrusi...|      NULL|  6.50|  NULL|\n",
      "|    ARBICO|          Arbico Plc|      NULL|  1.03|  NULL|\n",
      "|    ARDOVA|          Ardova Plc|   536,531| 16.90|   0.0|\n",
      "|ASOSAVINGS| Aso Savings & Loans|      NULL|  0.50|  NULL|\n",
      "| AUSTINLAZ|Austin Laz & Company|      NULL|  2.03|  NULL|\n",
      "|     BAPLC|Briclinks Africa Plc|      NULL|  6.25|  NULL|\n",
      "|    BERGER|       Berger Paints|    14,955| 10.45|   0.0|\n",
      "|  BETAGLAS|  Beta Glass Company|    22,835| 40.00|   0.0|\n",
      "| BUACEMENT|      BUA Cement Plc|   402,276| 86.00|   0.0|\n",
      "|  BUAFOODS|           BUA Foods|   240,781|135.75|   0.0|\n",
      "|   CADBURY|     Cadbury Nigeria| 1,231,680| 18.80|   0.0|\n",
      "|       CAP|             CAP Plc|   463,009| 19.20| -0.15|\n",
      "+----------+--------------------+----------+------+------+\n",
      "only showing top 20 rows\n",
      "\n"
     ]
    }
   ],
   "source": [
    "# Filtering using where and multiple condition\n",
    "stock_df.where((col(\"Price\") >= 100) | (col(\"Price\") <= 500)).show()"
   ]
  },
  {
   "cell_type": "code",
   "execution_count": 29,
   "id": "fc67185b",
   "metadata": {},
   "outputs": [
    {
     "name": "stdout",
     "output_type": "stream",
     "text": [
      "+----------+--------------------+----------+------+------+\n",
      "|    Ticker|                Name|    Volume| Price|Change|\n",
      "+----------+--------------------+----------+------+------+\n",
      "| BUACEMENT|      BUA Cement Plc|   402,276| 86.00|   0.0|\n",
      "|  RONCHESS|Ronchess Global R...|      NULL| 81.00|  NULL|\n",
      "|UNIONDICON|    Union Dicon Salt|       500|  8.95|   0.0|\n",
      "|       IMG|Industrial & Medi...|    20,399|  8.40|   0.0|\n",
      "|    CONOIL|          Conoil Plc|    68,964| 79.00|   0.0|\n",
      "|  GUINNESS|    Guinness Nigeria|   836,301| 77.70|   0.0|\n",
      "|   SFSREIT|Skye Shelter Fund...|     5,380| 77.00|   0.0|\n",
      "|GLAXOSMITH|Glaxo Smithkline ...| 1,227,845|  7.45| -0.05|\n",
      "|       UBN|  Union Bank Nigeria|   282,283|  7.05| -0.05|\n",
      "|       MRS|     MRS Oil Nigeria|    73,519| 68.75|   0.0|\n",
      "|    NOTORE|Notore Chemical I...|      NULL| 62.50|  NULL|\n",
      "|FIDELITYBK|   Fidelity Bank Plc|31,146,009|  6.94|  0.03|\n",
      "| CUSTODIAN|Custodian & Allie...|   451,510|  6.70| -0.05|\n",
      "|      ALEX|Aluminium Extrusi...|      NULL|  6.50|  NULL|\n",
      "|  AFRIPRUD|Africa Prudential...| 1,332,872|  6.40|  0.15|\n",
      "|    SKYAVN|Skyway Aviation H...|   102,050|  6.40|  0.55|\n",
      "|       NEM|N.E.M. Insurance ...|   431,950|  6.30| -0.69|\n",
      "|     BAPLC|Briclinks Africa Plc|      NULL|  6.25|  NULL|\n",
      "|      NESF|Nigeria Energy Se...|      NULL|552.20|  NULL|\n",
      "|   STANBIC|Stanbic IBTC Hold...| 3,173,077| 52.00|  -2.0|\n",
      "+----------+--------------------+----------+------+------+\n",
      "only showing top 20 rows\n",
      "\n"
     ]
    }
   ],
   "source": [
    "# Sorting result/records of Dataframe\n",
    "stock_df.orderBy(col('Price').desc()).show()"
   ]
  },
  {
   "cell_type": "code",
   "execution_count": 30,
   "id": "0a2fbfc0",
   "metadata": {},
   "outputs": [
    {
     "data": {
      "text/plain": [
       "156"
      ]
     },
     "execution_count": 30,
     "metadata": {},
     "output_type": "execute_result"
    }
   ],
   "source": [
    "# Checking for distinct count of values in a column\n",
    "stock_df.select('Ticker').distinct().count()"
   ]
  }
 ],
 "metadata": {
  "kernelspec": {
   "display_name": "base",
   "language": "python",
   "name": "python3"
  },
  "language_info": {
   "codemirror_mode": {
    "name": "ipython",
    "version": 3
   },
   "file_extension": ".py",
   "mimetype": "text/x-python",
   "name": "python",
   "nbconvert_exporter": "python",
   "pygments_lexer": "ipython3",
   "version": "3.11.3"
  }
 },
 "nbformat": 4,
 "nbformat_minor": 5
}
