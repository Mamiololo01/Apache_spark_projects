{
 "cells": [
  {
   "cell_type": "code",
   "execution_count": 0,
   "metadata": {
    "application/vnd.databricks.v1+cell": {
     "cellMetadata": {
      "byteLimit": 2048000,
      "rowLimit": 10000
     },
     "inputWidgets": {},
     "nuid": "cbbb21e6-26d3-4be6-9a21-fa7013fa34bb",
     "showTitle": false,
     "tableResultSettingsMap": {},
     "title": ""
    }
   },
   "outputs": [
    {
     "output_type": "display_data",
     "data": {
      "text/html": [
       "<style scoped>\n",
       "  .table-result-container {\n",
       "    max-height: 300px;\n",
       "    overflow: auto;\n",
       "  }\n",
       "  table, th, td {\n",
       "    border: 1px solid black;\n",
       "    border-collapse: collapse;\n",
       "  }\n",
       "  th, td {\n",
       "    padding: 5px;\n",
       "  }\n",
       "  th {\n",
       "    text-align: left;\n",
       "  }\n",
       "</style><div class='table-result-container'><table class='table-result'><thead style='background-color: white'><tr><th>path</th><th>name</th><th>size</th><th>modificationTime</th></tr></thead><tbody><tr><td>dbfs:/FileStore/tables/Data/customers/</td><td>customers/</td><td>0</td><td>0</td></tr><tr><td>dbfs:/FileStore/tables/Data/denorm/</td><td>denorm/</td><td>0</td><td>0</td></tr><tr><td>dbfs:/FileStore/tables/Data/final/</td><td>final/</td><td>0</td><td>0</td></tr><tr><td>dbfs:/FileStore/tables/Data/order_items/</td><td>order_items/</td><td>0</td><td>0</td></tr><tr><td>dbfs:/FileStore/tables/Data/orders/</td><td>orders/</td><td>0</td><td>0</td></tr></tbody></table></div>"
      ]
     },
     "metadata": {
      "application/vnd.databricks.v1+output": {
       "addedWidgets": {},
       "aggData": [],
       "aggError": "",
       "aggOverflow": false,
       "aggSchema": [],
       "aggSeriesLimitReached": false,
       "aggType": "",
       "arguments": {},
       "columnCustomDisplayInfos": {},
       "data": [
        [
         "dbfs:/FileStore/tables/Data/customers/",
         "customers/",
         0,
         0
        ],
        [
         "dbfs:/FileStore/tables/Data/denorm/",
         "denorm/",
         0,
         0
        ],
        [
         "dbfs:/FileStore/tables/Data/final/",
         "final/",
         0,
         0
        ],
        [
         "dbfs:/FileStore/tables/Data/order_items/",
         "order_items/",
         0,
         0
        ],
        [
         "dbfs:/FileStore/tables/Data/orders/",
         "orders/",
         0,
         0
        ]
       ],
       "datasetInfos": [],
       "dbfsResultPath": null,
       "isJsonSchema": true,
       "metadata": {
        "isDbfsCommandResult": false
       },
       "overflow": false,
       "plotOptions": {
        "customPlotOptions": {},
        "displayType": "table",
        "pivotAggregation": null,
        "pivotColumns": null,
        "xColumns": null,
        "yColumns": null
       },
       "removedWidgets": [],
       "schema": [
        {
         "metadata": "{}",
         "name": "path",
         "type": "\"string\""
        },
        {
         "metadata": "{}",
         "name": "name",
         "type": "\"string\""
        },
        {
         "metadata": "{}",
         "name": "size",
         "type": "\"long\""
        },
        {
         "metadata": "{}",
         "name": "modificationTime",
         "type": "\"long\""
        }
       ],
       "type": "table"
      }
     },
     "output_type": "display_data"
    }
   ],
   "source": [
    "%fs ls dbfs:/FileStore/tables/Data\n"
   ]
  },
  {
   "cell_type": "code",
   "execution_count": 0,
   "metadata": {
    "application/vnd.databricks.v1+cell": {
     "cellMetadata": {
      "byteLimit": 2048000,
      "rowLimit": 10000
     },
     "inputWidgets": {},
     "nuid": "175f7d1c-5ec9-4089-888f-0a89964043bd",
     "showTitle": false,
     "tableResultSettingsMap": {},
     "title": ""
    }
   },
   "outputs": [
    {
     "output_type": "display_data",
     "data": {
      "text/html": [
       "<style scoped>\n",
       "  .table-result-container {\n",
       "    max-height: 300px;\n",
       "    overflow: auto;\n",
       "  }\n",
       "  table, th, td {\n",
       "    border: 1px solid black;\n",
       "    border-collapse: collapse;\n",
       "  }\n",
       "  th, td {\n",
       "    padding: 5px;\n",
       "  }\n",
       "  th {\n",
       "    text-align: left;\n",
       "  }\n",
       "</style><div class='table-result-container'><table class='table-result'><thead style='background-color: white'><tr><th>path</th><th>name</th><th>size</th><th>modificationTime</th></tr></thead><tbody><tr><td>dbfs:/FileStore/shared_uploads/</td><td>shared_uploads/</td><td>0</td><td>0</td></tr><tr><td>dbfs:/FileStore/tables/</td><td>tables/</td><td>0</td><td>0</td></tr></tbody></table></div>"
      ]
     },
     "metadata": {
      "application/vnd.databricks.v1+output": {
       "addedWidgets": {},
       "aggData": [],
       "aggError": "",
       "aggOverflow": false,
       "aggSchema": [],
       "aggSeriesLimitReached": false,
       "aggType": "",
       "arguments": {},
       "columnCustomDisplayInfos": {},
       "data": [
        [
         "dbfs:/FileStore/shared_uploads/",
         "shared_uploads/",
         0,
         0
        ],
        [
         "dbfs:/FileStore/tables/",
         "tables/",
         0,
         0
        ]
       ],
       "datasetInfos": [],
       "dbfsResultPath": null,
       "isJsonSchema": true,
       "metadata": {},
       "overflow": false,
       "plotOptions": {
        "customPlotOptions": {},
        "displayType": "table",
        "pivotAggregation": null,
        "pivotColumns": null,
        "xColumns": null,
        "yColumns": null
       },
       "removedWidgets": [],
       "schema": [
        {
         "metadata": "{}",
         "name": "path",
         "type": "\"string\""
        },
        {
         "metadata": "{}",
         "name": "name",
         "type": "\"string\""
        },
        {
         "metadata": "{}",
         "name": "size",
         "type": "\"long\""
        },
        {
         "metadata": "{}",
         "name": "modificationTime",
         "type": "\"long\""
        }
       ],
       "type": "table"
      }
     },
     "output_type": "display_data"
    }
   ],
   "source": [
    "display(dbutils.fs.ls(\"/FileStore/\"))\n",
    "     \n",
    "     "
   ]
  },
  {
   "cell_type": "code",
   "execution_count": 0,
   "metadata": {
    "application/vnd.databricks.v1+cell": {
     "cellMetadata": {
      "byteLimit": 2048000,
      "rowLimit": 10000
     },
     "inputWidgets": {},
     "nuid": "e4900373-933e-46ef-aaf9-1b5c2db6277a",
     "showTitle": false,
     "tableResultSettingsMap": {},
     "title": ""
    }
   },
   "outputs": [
    {
     "output_type": "display_data",
     "data": {
      "text/html": [
       "<style scoped>\n",
       "  .table-result-container {\n",
       "    max-height: 300px;\n",
       "    overflow: auto;\n",
       "  }\n",
       "  table, th, td {\n",
       "    border: 1px solid black;\n",
       "    border-collapse: collapse;\n",
       "  }\n",
       "  th, td {\n",
       "    padding: 5px;\n",
       "  }\n",
       "  th {\n",
       "    text-align: left;\n",
       "  }\n",
       "</style><div class='table-result-container'><table class='table-result'><thead style='background-color: white'><tr><th>path</th><th>name</th><th>size</th><th>modificationTime</th></tr></thead><tbody><tr><td>dbfs:/FileStore/tables/Data/customers/</td><td>customers/</td><td>0</td><td>0</td></tr><tr><td>dbfs:/FileStore/tables/Data/order_items/</td><td>order_items/</td><td>0</td><td>0</td></tr><tr><td>dbfs:/FileStore/tables/Data/orders/</td><td>orders/</td><td>0</td><td>0</td></tr></tbody></table></div>"
      ]
     },
     "metadata": {
      "application/vnd.databricks.v1+output": {
       "addedWidgets": {},
       "aggData": [],
       "aggError": "",
       "aggOverflow": false,
       "aggSchema": [],
       "aggSeriesLimitReached": false,
       "aggType": "",
       "arguments": {},
       "columnCustomDisplayInfos": {},
       "data": [
        [
         "dbfs:/FileStore/tables/Data/customers/",
         "customers/",
         0,
         0
        ],
        [
         "dbfs:/FileStore/tables/Data/order_items/",
         "order_items/",
         0,
         0
        ],
        [
         "dbfs:/FileStore/tables/Data/orders/",
         "orders/",
         0,
         0
        ]
       ],
       "datasetInfos": [],
       "dbfsResultPath": null,
       "isJsonSchema": true,
       "metadata": {},
       "overflow": false,
       "plotOptions": {
        "customPlotOptions": {},
        "displayType": "table",
        "pivotAggregation": null,
        "pivotColumns": null,
        "xColumns": null,
        "yColumns": null
       },
       "removedWidgets": [],
       "schema": [
        {
         "metadata": "{}",
         "name": "path",
         "type": "\"string\""
        },
        {
         "metadata": "{}",
         "name": "name",
         "type": "\"string\""
        },
        {
         "metadata": "{}",
         "name": "size",
         "type": "\"long\""
        },
        {
         "metadata": "{}",
         "name": "modificationTime",
         "type": "\"long\""
        }
       ],
       "type": "table"
      }
     },
     "output_type": "display_data"
    }
   ],
   "source": [
    "display(dbutils.fs.ls(\"/FileStore/tables/Data\"))"
   ]
  },
  {
   "cell_type": "code",
   "execution_count": 0,
   "metadata": {
    "application/vnd.databricks.v1+cell": {
     "cellMetadata": {
      "byteLimit": 2048000,
      "rowLimit": 10000
     },
     "inputWidgets": {},
     "nuid": "04a923c8-461d-4622-b0cc-b7eabd36675e",
     "showTitle": false,
     "tableResultSettingsMap": {},
     "title": ""
    }
   },
   "outputs": [],
   "source": [
    "customer_df=spark.read.csv('dbfs:/FileStore/tables/Data/customers/',schema=\"\"\"customer_id INT,customer_fname STRING,customer_lname STRING,customer_email STRING,customer_password STRING,customer_street STRING,customer_city STRING,customer_state STRING,customer_zipcode INT\"\"\")\n",
    "\n",
    "orders_df=spark.read.csv('dbfs:/FileStore/tables/Data/orders/',schema=\"\"\"order_id INT,order_date DATE,order_customer_id INT,order_status STRING\"\"\")\n",
    "\n",
    "order_items_df=spark.read.csv('dbfs:/FileStore/tables/Data/order_items/',schema=\"\"\"order_item_id INT,order_item_order_id INT,order_item_product_id INT,order_item_quantity INT,order_item_subtotal FLOAT,order_item_product_price FLOAT\"\"\")\n",
    "     "
   ]
  },
  {
   "cell_type": "code",
   "execution_count": 0,
   "metadata": {
    "application/vnd.databricks.v1+cell": {
     "cellMetadata": {
      "byteLimit": 2048000,
      "rowLimit": 10000
     },
     "inputWidgets": {},
     "nuid": "ad6a2134-ea71-417c-a3cf-8783b716c51b",
     "showTitle": false,
     "tableResultSettingsMap": {},
     "title": ""
    }
   },
   "outputs": [],
   "source": [
    "customers_orders_df=customer_df.join(orders_df,customer_df['customer_id']==orders_df['order_customer_id'])"
   ]
  },
  {
   "cell_type": "code",
   "execution_count": 0,
   "metadata": {
    "application/vnd.databricks.v1+cell": {
     "cellMetadata": {
      "byteLimit": 2048000,
      "rowLimit": 10000
     },
     "inputWidgets": {},
     "nuid": "427d430b-2795-4f19-a366-05ed82d1fb59",
     "showTitle": false,
     "tableResultSettingsMap": {},
     "title": ""
    }
   },
   "outputs": [
    {
     "output_type": "stream",
     "name": "stdout",
     "output_type": "stream",
     "text": [
      "+-----------+--------------+--------------+--------------+-----------------+--------------------+-------------+--------------+----------------+--------+----------+-----------------+---------------+\n|customer_id|customer_fname|customer_lname|customer_email|customer_password|     customer_street|customer_city|customer_state|customer_zipcode|order_id|order_date|order_customer_id|   order_status|\n+-----------+--------------+--------------+--------------+-----------------+--------------------+-------------+--------------+----------------+--------+----------+-----------------+---------------+\n|      11599|          Mary|        Malone|     XXXXXXXXX|        XXXXXXXXX|8708 Indian Horse...|      Hickory|            NC|           28601|       1|2013-07-25|            11599|         CLOSED|\n|        256|         David|     Rodriguez|     XXXXXXXXX|        XXXXXXXXX|7605 Tawny Horse ...|      Chicago|            IL|           60625|       2|2013-07-25|              256|PENDING_PAYMENT|\n+-----------+--------------+--------------+--------------+-----------------+--------------------+-------------+--------------+----------------+--------+----------+-----------------+---------------+\nonly showing top 2 rows\n\n"
     ]
    }
   ],
   "source": [
    "customers_orders_df.show(2)"
   ]
  },
  {
   "cell_type": "code",
   "execution_count": 0,
   "metadata": {
    "application/vnd.databricks.v1+cell": {
     "cellMetadata": {
      "byteLimit": 2048000,
      "rowLimit": 10000
     },
     "inputWidgets": {},
     "nuid": "6853a0fb-b7cd-4672-8510-02ad13651e0c",
     "showTitle": false,
     "tableResultSettingsMap": {},
     "title": ""
    }
   },
   "outputs": [
    {
     "output_type": "stream",
     "name": "stdout",
     "output_type": "stream",
     "text": [
      "+-----------+--------+----------+---------------+\n|customer_id|order_id|order_date|   order_status|\n+-----------+--------+----------+---------------+\n|          1|   22945|2013-12-13|       COMPLETE|\n|          2|   33865|2014-02-18|       COMPLETE|\n|          2|   15192|2013-10-29|PENDING_PAYMENT|\n|          2|   57963|2013-08-02|        ON_HOLD|\n|          2|   67863|2013-11-30|       COMPLETE|\n|          3|   35158|2014-02-26|       COMPLETE|\n|          3|   57617|2014-07-24|       COMPLETE|\n|          3|   22646|2013-12-11|       COMPLETE|\n|          3|   23662|2013-12-19|       COMPLETE|\n|          3|   56178|2014-07-15|        PENDING|\n+-----------+--------+----------+---------------+\nonly showing top 10 rows\n\n"
     ]
    }
   ],
   "source": [
    "customers_orders_df.select('customer_id','order_id','order_date','order_status').orderBy('customer_id').show(10)"
   ]
  },
  {
   "cell_type": "code",
   "execution_count": 0,
   "metadata": {
    "application/vnd.databricks.v1+cell": {
     "cellMetadata": {
      "byteLimit": 2048000,
      "rowLimit": 10000
     },
     "inputWidgets": {},
     "nuid": "09a7341e-acb5-4efd-a253-ae34f4902921",
     "showTitle": false,
     "tableResultSettingsMap": {},
     "title": ""
    }
   },
   "outputs": [],
   "source": [
    "from pyspark.sql.functions import struct"
   ]
  },
  {
   "cell_type": "code",
   "execution_count": 0,
   "metadata": {
    "application/vnd.databricks.v1+cell": {
     "cellMetadata": {
      "byteLimit": 2048000,
      "rowLimit": 10000
     },
     "inputWidgets": {},
     "nuid": "86197478-b8ba-496f-baf6-92b1b5779402",
     "showTitle": false,
     "tableResultSettingsMap": {},
     "title": ""
    }
   },
   "outputs": [
    {
     "output_type": "stream",
     "name": "stdout",
     "output_type": "stream",
     "text": [
      "+-----------+--------------------+\n|customer_id|       order_details|\n+-----------+--------------------+\n|          1|{22945, 2013-12-1...|\n|          2|{33865, 2014-02-1...|\n|          2|{15192, 2013-10-2...|\n|          2|{57963, 2013-08-0...|\n|          2|{67863, 2013-11-3...|\n|          3|{35158, 2014-02-2...|\n|          3|{57617, 2014-07-2...|\n|          3|{22646, 2013-12-1...|\n|          3|{23662, 2013-12-1...|\n|          3|{56178, 2014-07-1...|\n+-----------+--------------------+\nonly showing top 10 rows\n\n"
     ]
    }
   ],
   "source": [
    "customers_orders_df.select('customer_id',struct('order_id','order_date','order_status').alias('order_details')).orderBy('customer_id').show(10)\n",
    "     "
   ]
  },
  {
   "cell_type": "code",
   "execution_count": 0,
   "metadata": {
    "application/vnd.databricks.v1+cell": {
     "cellMetadata": {
      "byteLimit": 2048000,
      "rowLimit": 10000
     },
     "inputWidgets": {},
     "nuid": "d27fc97c-5dd5-411c-b53b-9a9e1885148c",
     "showTitle": false,
     "tableResultSettingsMap": {},
     "title": ""
    }
   },
   "outputs": [],
   "source": [
    "customer_order_struct=customers_orders_df.select('customer_id',struct('order_id','order_date','order_status').alias('order_details'))"
   ]
  },
  {
   "cell_type": "code",
   "execution_count": 0,
   "metadata": {
    "application/vnd.databricks.v1+cell": {
     "cellMetadata": {
      "byteLimit": 2048000,
      "rowLimit": 10000
     },
     "inputWidgets": {},
     "nuid": "c3320644-8158-4912-a8ee-238571f827d8",
     "showTitle": false,
     "tableResultSettingsMap": {},
     "title": ""
    }
   },
   "outputs": [],
   "source": [
    "from pyspark.sql.functions import collect_list"
   ]
  },
  {
   "cell_type": "code",
   "execution_count": 0,
   "metadata": {
    "application/vnd.databricks.v1+cell": {
     "cellMetadata": {
      "byteLimit": 2048000,
      "rowLimit": 10000
     },
     "inputWidgets": {},
     "nuid": "d0219d41-4448-4601-80b0-6fdff5b9ff39",
     "showTitle": false,
     "tableResultSettingsMap": {},
     "title": ""
    }
   },
   "outputs": [],
   "source": [
    "final_df=customer_order_struct.groupBy('customer_id').agg(collect_list('order_details').alias('order_details')).orderBy('customer_id')\n",
    "     "
   ]
  },
  {
   "cell_type": "code",
   "execution_count": 0,
   "metadata": {
    "application/vnd.databricks.v1+cell": {
     "cellMetadata": {
      "byteLimit": 2048000,
      "rowLimit": 10000
     },
     "inputWidgets": {},
     "nuid": "9a0f8843-e2b8-4ef1-b0a9-6d70b152d0d8",
     "showTitle": false,
     "tableResultSettingsMap": {},
     "title": ""
    }
   },
   "outputs": [
    {
     "output_type": "stream",
     "name": "stdout",
     "output_type": "stream",
     "text": [
      "+-----------+--------------------------------------------------------------------------------------------------------------------------------------------------------------------------------------------------------------------------+\n|customer_id|order_details                                                                                                                                                                                                             |\n+-----------+--------------------------------------------------------------------------------------------------------------------------------------------------------------------------------------------------------------------------+\n|1          |[{22945, 2013-12-13, COMPLETE}]                                                                                                                                                                                           |\n|2          |[{15192, 2013-10-29, PENDING_PAYMENT}, {33865, 2014-02-18, COMPLETE}, {57963, 2013-08-02, ON_HOLD}, {67863, 2013-11-30, COMPLETE}]                                                                                        |\n|3          |[{22646, 2013-12-11, COMPLETE}, {23662, 2013-12-19, COMPLETE}, {35158, 2014-02-26, COMPLETE}, {46399, 2014-05-09, PROCESSING}, {56178, 2014-07-15, PENDING}, {57617, 2014-07-24, COMPLETE}, {61453, 2013-12-14, COMPLETE}]|\n+-----------+--------------------------------------------------------------------------------------------------------------------------------------------------------------------------------------------------------------------------+\nonly showing top 3 rows\n\n"
     ]
    }
   ],
   "source": [
    "final_df.show(3,truncate=False)"
   ]
  },
  {
   "cell_type": "code",
   "execution_count": 0,
   "metadata": {
    "application/vnd.databricks.v1+cell": {
     "cellMetadata": {
      "byteLimit": 2048000,
      "rowLimit": 10000
     },
     "inputWidgets": {},
     "nuid": "50d63d9b-4975-4082-9ab3-20d1d286e797",
     "showTitle": false,
     "tableResultSettingsMap": {},
     "title": ""
    }
   },
   "outputs": [],
   "source": [
    "final_df.coalesce(1).write.json('dbfs:/FileStore/tables/Data/final')"
   ]
  },
  {
   "cell_type": "code",
   "execution_count": 0,
   "metadata": {
    "application/vnd.databricks.v1+cell": {
     "cellMetadata": {
      "byteLimit": 2048000,
      "rowLimit": 10000
     },
     "inputWidgets": {},
     "nuid": "e68840f8-8b69-4646-97bf-cb58b8341fab",
     "showTitle": false,
     "tableResultSettingsMap": {},
     "title": ""
    }
   },
   "outputs": [
    {
     "output_type": "display_data",
     "data": {
      "text/html": [
       "<style scoped>\n",
       "  .table-result-container {\n",
       "    max-height: 300px;\n",
       "    overflow: auto;\n",
       "  }\n",
       "  table, th, td {\n",
       "    border: 1px solid black;\n",
       "    border-collapse: collapse;\n",
       "  }\n",
       "  th, td {\n",
       "    padding: 5px;\n",
       "  }\n",
       "  th {\n",
       "    text-align: left;\n",
       "  }\n",
       "</style><div class='table-result-container'><table class='table-result'><thead style='background-color: white'><tr><th>path</th><th>name</th><th>size</th><th>modificationTime</th></tr></thead><tbody><tr><td>dbfs:/FileStore/tables/Data/final/_SUCCESS</td><td>_SUCCESS</td><td>0</td><td>1739179376000</td></tr><tr><td>dbfs:/FileStore/tables/Data/final/_committed_5870723479152224311</td><td>_committed_5870723479152224311</td><td>113</td><td>1739179375000</td></tr><tr><td>dbfs:/FileStore/tables/Data/final/_started_5870723479152224311</td><td>_started_5870723479152224311</td><td>0</td><td>1739179374000</td></tr><tr><td>dbfs:/FileStore/tables/Data/final/part-00000-tid-5870723479152224311-a7d80457-bbe2-4405-a7ec-a98b168229ef-47-1-c000.json</td><td>part-00000-tid-5870723479152224311-a7d80457-bbe2-4405-a7ec-a98b168229ef-47-1-c000.json</td><td>5475226</td><td>1739179375000</td></tr></tbody></table></div>"
      ]
     },
     "metadata": {
      "application/vnd.databricks.v1+output": {
       "addedWidgets": {},
       "aggData": [],
       "aggError": "",
       "aggOverflow": false,
       "aggSchema": [],
       "aggSeriesLimitReached": false,
       "aggType": "",
       "arguments": {},
       "columnCustomDisplayInfos": {},
       "data": [
        [
         "dbfs:/FileStore/tables/Data/final/_SUCCESS",
         "_SUCCESS",
         0,
         1739179376000
        ],
        [
         "dbfs:/FileStore/tables/Data/final/_committed_5870723479152224311",
         "_committed_5870723479152224311",
         113,
         1739179375000
        ],
        [
         "dbfs:/FileStore/tables/Data/final/_started_5870723479152224311",
         "_started_5870723479152224311",
         0,
         1739179374000
        ],
        [
         "dbfs:/FileStore/tables/Data/final/part-00000-tid-5870723479152224311-a7d80457-bbe2-4405-a7ec-a98b168229ef-47-1-c000.json",
         "part-00000-tid-5870723479152224311-a7d80457-bbe2-4405-a7ec-a98b168229ef-47-1-c000.json",
         5475226,
         1739179375000
        ]
       ],
       "datasetInfos": [],
       "dbfsResultPath": null,
       "isJsonSchema": true,
       "metadata": {
        "isDbfsCommandResult": false
       },
       "overflow": false,
       "plotOptions": {
        "customPlotOptions": {},
        "displayType": "table",
        "pivotAggregation": null,
        "pivotColumns": null,
        "xColumns": null,
        "yColumns": null
       },
       "removedWidgets": [],
       "schema": [
        {
         "metadata": "{}",
         "name": "path",
         "type": "\"string\""
        },
        {
         "metadata": "{}",
         "name": "name",
         "type": "\"string\""
        },
        {
         "metadata": "{}",
         "name": "size",
         "type": "\"long\""
        },
        {
         "metadata": "{}",
         "name": "modificationTime",
         "type": "\"long\""
        }
       ],
       "type": "table"
      }
     },
     "output_type": "display_data"
    }
   ],
   "source": [
    "\n",
    "%fs ls dbfs:/FileStore/tables/Data/final"
   ]
  },
  {
   "cell_type": "code",
   "execution_count": 0,
   "metadata": {
    "application/vnd.databricks.v1+cell": {
     "cellMetadata": {
      "byteLimit": 2048000,
      "rowLimit": 10000
     },
     "inputWidgets": {},
     "nuid": "c704f312-41d0-4fe5-acb9-722661dc108a",
     "showTitle": false,
     "tableResultSettingsMap": {},
     "title": ""
    }
   },
   "outputs": [],
   "source": [
    "customer_details=customer_df. \\\n",
    "join(orders_df,customer_df['customer_id']==orders_df['order_customer_id']). \\\n",
    "join(order_items_df,orders_df['order_id']==order_items_df['order_item_order_id'])\n",
    "     "
   ]
  },
  {
   "cell_type": "code",
   "execution_count": 0,
   "metadata": {
    "application/vnd.databricks.v1+cell": {
     "cellMetadata": {
      "byteLimit": 2048000,
      "rowLimit": 10000
     },
     "inputWidgets": {},
     "nuid": "5aec3062-f3ed-4731-8ee0-c6ab20513951",
     "showTitle": false,
     "tableResultSettingsMap": {},
     "title": ""
    }
   },
   "outputs": [],
   "source": [
    "\n",
    "from pyspark.sql.functions import struct, collect_list"
   ]
  },
  {
   "cell_type": "code",
   "execution_count": 0,
   "metadata": {
    "application/vnd.databricks.v1+cell": {
     "cellMetadata": {
      "byteLimit": 2048000,
      "rowLimit": 10000
     },
     "inputWidgets": {},
     "nuid": "0825b690-85ea-431e-89aa-11a278045581",
     "showTitle": false,
     "tableResultSettingsMap": {},
     "title": ""
    }
   },
   "outputs": [],
   "source": [
    "denorm_df=customer_details. \\\n",
    "select('customer_id','customer_fname','customer_lname','customer_email','order_id','order_date','order_status',struct('order_item_id','order_item_product_id','order_item_subtotal').alias('order_item_details')). \\\n",
    "groupBy('customer_id','customer_fname','customer_lname','customer_email','order_id','order_date','order_status'). \\\n",
    "agg(collect_list('order_item_details').alias('order_item_details')). \\\n",
    "orderBy('customer_id'). \\\n",
    "select('customer_id','customer_fname','customer_lname','customer_email',struct('order_id','order_date','order_status','order_item_details').alias('order_details')). \\\n",
    "groupBy('customer_id','customer_fname','customer_lname','customer_email'). \\\n",
    "agg(collect_list('order_details').alias('order_details')). \\\n",
    "orderBy('customer_id')"
   ]
  },
  {
   "cell_type": "code",
   "execution_count": 0,
   "metadata": {
    "application/vnd.databricks.v1+cell": {
     "cellMetadata": {
      "byteLimit": 2048000,
      "rowLimit": 10000
     },
     "inputWidgets": {},
     "nuid": "37c97862-cf0e-43aa-99c1-4cf44bee6b08",
     "showTitle": false,
     "tableResultSettingsMap": {},
     "title": ""
    }
   },
   "outputs": [
    {
     "output_type": "stream",
     "name": "stdout",
     "output_type": "stream",
     "text": [
      "root\n |-- customer_id: integer (nullable = true)\n |-- customer_fname: string (nullable = true)\n |-- customer_lname: string (nullable = true)\n |-- customer_email: string (nullable = true)\n |-- order_details: array (nullable = false)\n |    |-- element: struct (containsNull = false)\n |    |    |-- order_id: integer (nullable = true)\n |    |    |-- order_date: date (nullable = true)\n |    |    |-- order_status: string (nullable = true)\n |    |    |-- order_item_details: array (nullable = false)\n |    |    |    |-- element: struct (containsNull = false)\n |    |    |    |    |-- order_item_id: integer (nullable = true)\n |    |    |    |    |-- order_item_product_id: integer (nullable = true)\n |    |    |    |    |-- order_item_subtotal: float (nullable = true)\n\n"
     ]
    }
   ],
   "source": [
    "denorm_df.printSchema()"
   ]
  },
  {
   "cell_type": "code",
   "execution_count": 0,
   "metadata": {
    "application/vnd.databricks.v1+cell": {
     "cellMetadata": {
      "byteLimit": 2048000,
      "rowLimit": 10000
     },
     "inputWidgets": {},
     "nuid": "b24eff41-4c3a-4985-8142-82a1662e8aef",
     "showTitle": false,
     "tableResultSettingsMap": {},
     "title": ""
    }
   },
   "outputs": [],
   "source": [
    "denorm_df.coalesce(1).write.mode('overwrite').json('dbfs:/FileStore/tables/Data/denorm')"
   ]
  },
  {
   "cell_type": "code",
   "execution_count": 0,
   "metadata": {
    "application/vnd.databricks.v1+cell": {
     "cellMetadata": {
      "byteLimit": 2048000,
      "rowLimit": 10000
     },
     "inputWidgets": {},
     "nuid": "e800dd0b-5fa8-4681-9e16-23b7fc6c2fd5",
     "showTitle": false,
     "tableResultSettingsMap": {},
     "title": ""
    }
   },
   "outputs": [
    {
     "output_type": "display_data",
     "data": {
      "text/html": [
       "<style scoped>\n",
       "  .table-result-container {\n",
       "    max-height: 300px;\n",
       "    overflow: auto;\n",
       "  }\n",
       "  table, th, td {\n",
       "    border: 1px solid black;\n",
       "    border-collapse: collapse;\n",
       "  }\n",
       "  th, td {\n",
       "    padding: 5px;\n",
       "  }\n",
       "  th {\n",
       "    text-align: left;\n",
       "  }\n",
       "</style><div class='table-result-container'><table class='table-result'><thead style='background-color: white'><tr><th>path</th><th>name</th><th>size</th><th>modificationTime</th></tr></thead><tbody><tr><td>dbfs:/FileStore/tables/Data/denorm/_SUCCESS</td><td>_SUCCESS</td><td>0</td><td>1739179639000</td></tr><tr><td>dbfs:/FileStore/tables/Data/denorm/_committed_678244002928469687</td><td>_committed_678244002928469687</td><td>112</td><td>1739179639000</td></tr><tr><td>dbfs:/FileStore/tables/Data/denorm/_started_678244002928469687</td><td>_started_678244002928469687</td><td>0</td><td>1739179636000</td></tr><tr><td>dbfs:/FileStore/tables/Data/denorm/part-00000-tid-678244002928469687-289c7ec2-4366-4a0d-a3e9-5f85e7ab9e81-60-1-c000.json</td><td>part-00000-tid-678244002928469687-289c7ec2-4366-4a0d-a3e9-5f85e7ab9e81-60-1-c000.json</td><td>20949617</td><td>1739179638000</td></tr></tbody></table></div>"
      ]
     },
     "metadata": {
      "application/vnd.databricks.v1+output": {
       "addedWidgets": {},
       "aggData": [],
       "aggError": "",
       "aggOverflow": false,
       "aggSchema": [],
       "aggSeriesLimitReached": false,
       "aggType": "",
       "arguments": {},
       "columnCustomDisplayInfos": {},
       "data": [
        [
         "dbfs:/FileStore/tables/Data/denorm/_SUCCESS",
         "_SUCCESS",
         0,
         1739179639000
        ],
        [
         "dbfs:/FileStore/tables/Data/denorm/_committed_678244002928469687",
         "_committed_678244002928469687",
         112,
         1739179639000
        ],
        [
         "dbfs:/FileStore/tables/Data/denorm/_started_678244002928469687",
         "_started_678244002928469687",
         0,
         1739179636000
        ],
        [
         "dbfs:/FileStore/tables/Data/denorm/part-00000-tid-678244002928469687-289c7ec2-4366-4a0d-a3e9-5f85e7ab9e81-60-1-c000.json",
         "part-00000-tid-678244002928469687-289c7ec2-4366-4a0d-a3e9-5f85e7ab9e81-60-1-c000.json",
         20949617,
         1739179638000
        ]
       ],
       "datasetInfos": [],
       "dbfsResultPath": null,
       "isJsonSchema": true,
       "metadata": {
        "isDbfsCommandResult": false
       },
       "overflow": false,
       "plotOptions": {
        "customPlotOptions": {},
        "displayType": "table",
        "pivotAggregation": null,
        "pivotColumns": null,
        "xColumns": null,
        "yColumns": null
       },
       "removedWidgets": [],
       "schema": [
        {
         "metadata": "{}",
         "name": "path",
         "type": "\"string\""
        },
        {
         "metadata": "{}",
         "name": "name",
         "type": "\"string\""
        },
        {
         "metadata": "{}",
         "name": "size",
         "type": "\"long\""
        },
        {
         "metadata": "{}",
         "name": "modificationTime",
         "type": "\"long\""
        }
       ],
       "type": "table"
      }
     },
     "output_type": "display_data"
    }
   ],
   "source": [
    "%fs ls dbfs:/FileStore/tables/Data/denorm"
   ]
  },
  {
   "cell_type": "code",
   "execution_count": 0,
   "metadata": {
    "application/vnd.databricks.v1+cell": {
     "cellMetadata": {
      "byteLimit": 2048000,
      "rowLimit": 10000
     },
     "inputWidgets": {},
     "nuid": "b7c21d1f-118a-4e15-8944-867ecc1d12a7",
     "showTitle": false,
     "tableResultSettingsMap": {},
     "title": ""
    }
   },
   "outputs": [],
   "source": [
    "json_df=spark.read.json('dbfs:/FileStore/tables/Data/denorm/')\n",
    "     "
   ]
  },
  {
   "cell_type": "code",
   "execution_count": 0,
   "metadata": {
    "application/vnd.databricks.v1+cell": {
     "cellMetadata": {
      "byteLimit": 2048000,
      "rowLimit": 10000
     },
     "inputWidgets": {},
     "nuid": "8b720118-5b62-408a-812b-05dabaec8a0d",
     "showTitle": false,
     "tableResultSettingsMap": {},
     "title": ""
    }
   },
   "outputs": [],
   "source": [
    "\n",
    "from pyspark.sql.functions import explode,filter"
   ]
  },
  {
   "cell_type": "code",
   "execution_count": 0,
   "metadata": {
    "application/vnd.databricks.v1+cell": {
     "cellMetadata": {
      "byteLimit": 2048000,
      "rowLimit": 10000
     },
     "inputWidgets": {},
     "nuid": "0382efb9-8256-4f13-93c8-3ff4aae5b031",
     "showTitle": false,
     "tableResultSettingsMap": {},
     "title": ""
    }
   },
   "outputs": [
    {
     "output_type": "stream",
     "name": "stdout",
     "output_type": "stream",
     "text": [
      "Out[31]: DataFrame[customer_id: bigint, customer_fname: string, order_id: bigint, order_date: string, order_status: string]"
     ]
    }
   ],
   "source": [
    "json_df.select('customer_id','customer_fname',explode('order_details').alias('order_details')). \\\n",
    "filter('order_details.order_date LIKE \"2014-01-01%\"'). \\\n",
    "orderBy('customer_id'). \\\n",
    "select('customer_id','customer_fname','order_details.order_id','order_details.order_date','order_details.order_status')\n",
    "     "
   ]
  },
  {
   "cell_type": "code",
   "execution_count": 0,
   "metadata": {
    "application/vnd.databricks.v1+cell": {
     "cellMetadata": {
      "byteLimit": 2048000,
      "rowLimit": 10000
     },
     "inputWidgets": {},
     "nuid": "71bac3ef-d266-491f-abd2-1618133bee0c",
     "showTitle": false,
     "tableResultSettingsMap": {},
     "title": ""
    }
   },
   "outputs": [],
   "source": [
    "from pyspark.sql.functions import date_format,col"
   ]
  },
  {
   "cell_type": "code",
   "execution_count": 0,
   "metadata": {
    "application/vnd.databricks.v1+cell": {
     "cellMetadata": {
      "byteLimit": 2048000,
      "rowLimit": 10000
     },
     "inputWidgets": {},
     "nuid": "81a2b333-8bd3-4c5c-897c-86c81f1186a9",
     "showTitle": false,
     "tableResultSettingsMap": {},
     "title": ""
    }
   },
   "outputs": [],
   "source": [
    "flatten=json_df.select('customer_id','customer_fname',explode('order_details').alias('order_details')). \\\n",
    "select('customer_id','customer_fname',col('order_details.order_date').alias('order_date'),col('order_details.order_id').alias('order_id'),col('order_details.order_status').alias('order_status'),explode('order_details.order_item_details').alias('order_item_details')). \\\n",
    "select('customer_id','customer_fname','order_date','order_id','order_status','order_item_details.order_item_id','order_item_details.order_item_product_id','order_item_details.order_item_subtotal')\n",
    "\n",
    "     "
   ]
  },
  {
   "cell_type": "code",
   "execution_count": 0,
   "metadata": {
    "application/vnd.databricks.v1+cell": {
     "cellMetadata": {
      "byteLimit": 2048000,
      "rowLimit": 10000
     },
     "inputWidgets": {},
     "nuid": "1c498ffa-db61-4e46-bb2d-0b30fa988fb8",
     "showTitle": false,
     "tableResultSettingsMap": {},
     "title": ""
    }
   },
   "outputs": [
    {
     "output_type": "stream",
     "name": "stdout",
     "output_type": "stream",
     "text": [
      "+-----------+--------------+----------+--------+---------------+-------------+---------------------+-------------------+\n|customer_id|customer_fname|order_date|order_id|   order_status|order_item_id|order_item_product_id|order_item_subtotal|\n+-----------+--------------+----------+--------+---------------+-------------+---------------------+-------------------+\n|          1|       Richard|2013-12-13|   22945|       COMPLETE|        57439|                  191|             499.95|\n|          2|          Mary|2013-08-02|   57963|        ON_HOLD|       145023|                 1014|             149.94|\n|          2|          Mary|2013-08-02|   57963|        ON_HOLD|       145022|                 1014|              99.96|\n|          2|          Mary|2013-08-02|   57963|        ON_HOLD|       145021|                  627|             199.95|\n|          2|          Mary|2013-08-02|   57963|        ON_HOLD|       145020|                 1073|             199.99|\n|          2|          Mary|2013-08-02|   57963|        ON_HOLD|       145019|                  365|             119.98|\n|          2|          Mary|2014-02-18|   33865|       COMPLETE|        84538|                  502|               50.0|\n|          2|          Mary|2014-02-18|   33865|       COMPLETE|        84537|                 1073|             199.99|\n|          2|          Mary|2014-02-18|   33865|       COMPLETE|        84536|                  957|             299.98|\n|          2|          Mary|2013-10-29|   15192|PENDING_PAYMENT|        38007|                 1014|              99.96|\n+-----------+--------------+----------+--------+---------------+-------------+---------------------+-------------------+\nonly showing top 10 rows\n\n"
     ]
    }
   ],
   "source": [
    "flatten.show(10)"
   ]
  },
  {
   "cell_type": "code",
   "execution_count": 0,
   "metadata": {
    "application/vnd.databricks.v1+cell": {
     "cellMetadata": {
      "byteLimit": 2048000,
      "rowLimit": 10000
     },
     "inputWidgets": {},
     "nuid": "e8d6d875-f689-441c-92bc-60bf5d49a98a",
     "showTitle": false,
     "tableResultSettingsMap": {},
     "title": ""
    }
   },
   "outputs": [],
   "source": [
    "from pyspark.sql.functions import to_date"
   ]
  },
  {
   "cell_type": "code",
   "execution_count": 0,
   "metadata": {
    "application/vnd.databricks.v1+cell": {
     "cellMetadata": {
      "byteLimit": 2048000,
      "rowLimit": 10000
     },
     "inputWidgets": {},
     "nuid": "6b975e33-9254-4a73-aaa2-6a89bc12cbda",
     "showTitle": false,
     "tableResultSettingsMap": {},
     "title": ""
    }
   },
   "outputs": [],
   "source": [
    "\n",
    "from pyspark.sql import Row\n",
    "from pyspark.sql.functions import sum as _sum"
   ]
  },
  {
   "cell_type": "code",
   "execution_count": 0,
   "metadata": {
    "application/vnd.databricks.v1+cell": {
     "cellMetadata": {
      "byteLimit": 2048000,
      "rowLimit": 10000
     },
     "inputWidgets": {},
     "nuid": "761c8748-7585-4e6e-868f-76703e7b7a0b",
     "showTitle": false,
     "tableResultSettingsMap": {},
     "title": ""
    }
   },
   "outputs": [
    {
     "output_type": "stream",
     "name": "stdout",
     "output_type": "stream",
     "text": [
      "+-----------+------------------+\n|order_month|           Revenue|\n+-----------+------------------+\n|    2013-07| 333465.4500000003|\n|    2013-08|1221828.9000000027|\n|    2013-09|1302255.8000000028|\n|    2013-10|1171686.9200000018|\n|    2013-11|1379935.3300000008|\n|    2013-12| 1277719.600000003|\n|    2014-01|1230221.7400000019|\n|    2014-02|1217770.0900000029|\n|    2014-03|1271350.9700000028|\n|    2014-04|1249723.5200000028|\n+-----------+------------------+\nonly showing top 10 rows\n\n"
     ]
    }
   ],
   "source": [
    "flatten.select('customer_id','customer_fname',col(\"order_date\"),to_date(col(\"order_date\"),\"yyyy-MM-dd\").alias(\"order_date_converted\"),'order_status','order_item_subtotal'). \\\n",
    "filter(\"order_status IN ('COMPLETE','CLOSED')\"). \\\n",
    "groupBy(date_format('order_date_converted','yyyy-MM').alias('order_month')). \\\n",
    "agg(_sum('order_item_subtotal').alias('Revenue')). \\\n",
    "orderBy('order_month'). \\\n",
    "show(10)"
   ]
  }
 ],
 "metadata": {
  "application/vnd.databricks.v1+notebook": {
   "computePreferences": null,
   "dashboards": [],
   "environmentMetadata": {
    "base_environment": "",
    "client": "1"
   },
   "language": "python",
   "notebookMetadata": {
    "mostRecentlyExecutedCommandWithImplicitDF": {
     "commandId": 4448923056294430,
     "dataframes": [
      "_sqldf"
     ]
    },
    "pythonIndentUnit": 4
   },
   "notebookName": "data_processing.ipynb",
   "widgets": {}
  }
 },
 "nbformat": 4,
 "nbformat_minor": 0
}
